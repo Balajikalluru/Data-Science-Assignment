{
 "cells": [
  {
   "cell_type": "code",
   "execution_count": null,
   "id": "2451354f",
   "metadata": {},
   "outputs": [],
   "source": [
    "import pandas as pd\n",
    "import numpy as np\n",
    "from sklearn.metrics.pairwise import cosine_similarity, euclidean_distances\n",
    "from sklearn.preprocessing import StandardScaler\n",
    "from sklearn.cluster import KMeans\n",
    "from datetime import datetime"
   ]
  },
  {
   "cell_type": "code",
   "execution_count": null,
   "id": "a22369cc",
   "metadata": {},
   "outputs": [],
   "source": [
    "customers = pd.read_csv(\"Customers.csv\")\n",
    "products = pd.read_csv(\"Products.csv\")\n",
    "transactions = pd.read_csv(\"Transactions.csv\")"
   ]
  },
  {
   "cell_type": "code",
   "execution_count": null,
   "id": "2b21f929",
   "metadata": {},
   "outputs": [],
   "source": [
    "transactions['TransactionDate'] = pd.to_datetime(transactions['TransactionDate'])\n",
    "customers['SignupDate'] = pd.to_datetime(customers['SignupDate'], format='%d-%m-%Y')\n",
    "\n",
    "merged_data = transactions.merge(customers, on='CustomerID').merge(products, on='ProductID')"
   ]
  },
  {
   "cell_type": "code",
   "execution_count": null,
   "id": "d5238448",
   "metadata": {},
   "outputs": [],
   "source": [
    "customer_profile = merged_data.pivot_table(index='CustomerID', \n",
    "                                            columns='Category', \n",
    "                                            values='TotalValue', \n",
    "                                            aggfunc='sum', \n",
    "                                            fill_value=0)\n",
    "\n",
    "customer_profile['Total_Spending'] = merged_data.groupby('CustomerID')['TotalValue'].sum()\n",
    "customer_profile['Transaction_Count'] = merged_data.groupby('CustomerID')['TransactionID'].count()\n",
    "\n",
    "last_purchase_date = merged_data.groupby('CustomerID')['TransactionDate'].max()\n",
    "recency_days = (datetime.now() - last_purchase_date).dt.days\n",
    "customer_profile['Recency'] = recency_days"
   ]
  },
  {
   "cell_type": "code",
   "execution_count": null,
   "id": "ba479be7",
   "metadata": {},
   "outputs": [],
   "source": [
    "scaler = StandardScaler()\n",
    "scaled_features = scaler.fit_transform(customer_profile)\n",
    "\n",
    "cosine_similarities = cosine_similarity(scaled_features)\n",
    "\n",
    "similarity_df_cosine = pd.DataFrame(cosine_similarities, index=customer_profile.index, columns=customer_profile.index)"
   ]
  },
  {
   "cell_type": "code",
   "execution_count": null,
   "id": "83f203e1",
   "metadata": {},
   "outputs": [],
   "source": [
    "kmeans = KMeans(n_clusters=5, random_state=42)\n",
    "clusters = kmeans.fit_predict(scaled_features)\n",
    "customer_profile['Cluster'] = clusters"
   ]
  },
  {
   "cell_type": "code",
   "execution_count": null,
   "id": "8846a000",
   "metadata": {},
   "outputs": [],
   "source": [
    "lookalike_map_cosine = {}\n",
    "lookalike_map_euclidean = {}\n",
    "\n",
    "for customer_id in customer_profile.index[:20]: \n",
    "    # Get top 3 lookalikes based on cosine similarity (excluding self)\n",
    "    top_lookalikes_cosine = similarity_df_cosine[customer_id].nlargest(4).iloc[1:]\n",
    "    lookalike_map_cosine[customer_id] = list(zip(top_lookalikes_cosine.index, top_lookalikes_cosine.values))"
   ]
  },
  {
   "cell_type": "code",
   "execution_count": 10,
   "id": "2878065e",
   "metadata": {},
   "outputs": [],
   "source": [
    "lookalike_list_cosine = []\n",
    "lookalike_list_euclidean = []\n",
    "\n",
    "for cust_id, lookalikes in lookalike_map_cosine.items():\n",
    "    for lookalike in lookalikes:\n",
    "        lookalike_list_cosine.append({'cust_id': cust_id, 'lookalike_cust_id': lookalike[0], 'similarity_score': lookalike[1]})\n",
    "\n",
    "pd.DataFrame(lookalike_list_cosine).to_csv(\"Lookalike.csv\", index=False)"
   ]
  },
  {
   "cell_type": "markdown",
   "id": "cec5760d",
   "metadata": {},
   "source": [
    "In this project, I developed a Lookalike Model to identify customers with similar characteristics and purchasing behaviors based on their profiles and transaction histories. Here’s a detailed breakdown of the steps I took:\n",
    "\n",
    "### 1. Data Loading\n",
    "I began by loading three essential datasets: **Customers**, **Products**, and **Transactions**. This foundational step was crucial for gathering all necessary information about customer demographics, product details, and transaction history.\n",
    "\n",
    "### 2. Data Exploration\n",
    "Next, I explored the datasets to understand their structure and contents. I examined the first few rows of each dataset to get an overview of customer demographics, product details, and transaction records. I also checked for missing values and data types to ensure data quality.\n",
    "\n",
    "### 3. Feature Engineering\n",
    "I created a comprehensive customer profile by aggregating transaction data. This involved calculating total spending per customer, counting the number of transactions, and determining the recency of purchases. These features are vital for understanding customer behavior and forming meaningful comparisons.\n",
    "\n",
    "### 4. Similarity Calculations\n",
    "To find similar customers, I employed **cosine similarity** metric. Cosine similarity measures how closely related two customers are based on their spending patterns.\n",
    "\n",
    "### 5. Clustering\n",
    "I applied K-means clustering to group customers into segments based on their profiles. This clustering allowed me to refine my recommendations by ensuring that similar customers were clustered together, enhancing the relevance of suggested lookalikes.\n",
    "\n",
    "### 6. Generating Lookalikes\n",
    "For each of the first 20 customers in my dataset, I identified the top three lookalikes based on both similarity metrics. This step directly addressed my goal of providing actionable recommendations for identifying potential customers who share similar traits.\n",
    "\n",
    "### 7. Output Generation\n",
    "Finally, I compiled my findings into structured CSV files for easy access and further analysis. These outputs can be utilized to inform future marketing strategies or customer engagement efforts.\n",
    "\n",
    "### Conclusion\n",
    "Through this structured approach, I successfully created a Lookalike Model that identifies similar customers based on their profiles and transaction histories. The model's similarity metric and clustering techniques enhance its effectiveness, making it a valuable tool for understanding customer behavior and improving targeting strategies."
   ]
  },
  {
   "cell_type": "code",
   "execution_count": null,
   "id": "d8b0c409",
   "metadata": {},
   "outputs": [],
   "source": []
  }
 ],
 "metadata": {
  "kernelspec": {
   "display_name": "Python 3 (ipykernel)",
   "language": "python",
   "name": "python3"
  },
  "language_info": {
   "codemirror_mode": {
    "name": "ipython",
    "version": 3
   },
   "file_extension": ".py",
   "mimetype": "text/x-python",
   "name": "python",
   "nbconvert_exporter": "python",
   "pygments_lexer": "ipython3",
   "version": "3.9.13"
  }
 },
 "nbformat": 4,
 "nbformat_minor": 5
}
